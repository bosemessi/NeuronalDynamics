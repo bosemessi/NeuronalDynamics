{
 "cells": [
  {
   "cell_type": "code",
   "execution_count": 2,
   "metadata": {},
   "outputs": [],
   "source": [
    "%matplotlib inline\n",
    "from brian2 import *\n",
    "import matplotlib.pyplot as plt\n",
    "import numpy as np\n",
    "import scipy.signal as signal"
   ]
  },
  {
   "cell_type": "code",
   "execution_count": 4,
   "metadata": {},
   "outputs": [],
   "source": [
    "# clear_cache('cython')"
   ]
  },
  {
   "cell_type": "code",
   "execution_count": 6,
   "metadata": {},
   "outputs": [],
   "source": [
    "defaultclock.dt = 0.01*ms"
   ]
  },
  {
   "cell_type": "code",
   "execution_count": 7,
   "metadata": {},
   "outputs": [],
   "source": [
    "#### Borrowing from input factory of neurodynex package\n",
    "\n",
    "def get_step_current(t_start, t_end, t_total, unit_time, amplitude):\n",
    "\n",
    "    I_arr = np.zeros(t_total)*amp\n",
    "    I_arr[t_start : t_end+1] = amplitude\n",
    "    t_arr = TimedArray(np.arange(0, t_total), dt = 1*unit_time)\n",
    "    I_arr = TimedArray(I_arr, dt = 1*unit_time)\n",
    "    return t_arr, I_arr"
   ]
  },
  {
   "cell_type": "code",
   "execution_count": 5,
   "metadata": {},
   "outputs": [],
   "source": [
    "ps1 = {\n",
    "    \"CABLE_LENGTH\" : 500. * um,  # length of dendrite\n",
    "    \"CABLE_DIAMETER\" : 2. * um,  # diameter of dendrite\n",
    "    \"R_LONGITUDINAL\" : 0.5 * kohm * mm,  # Intracellular medium resistance\n",
    "    \"R_TRANSVERSAL\" : 1.25 * Mohm * mm ** 2,  # cell membrane resistance (->leak current)\n",
    "    \"E_LEAK\" : -70. * mV,  # reversal potential of the leak current (-> resting potential)\n",
    "    \"CAPACITANCE\" : 0.8 * uF / cm ** 2\n",
    "}"
   ]
  },
  {
   "cell_type": "code",
   "execution_count": 8,
   "metadata": {},
   "outputs": [],
   "source": [
    "def passive_cable(I_arr, I_loc, params, duration, initial_voltage, nr_compartments):\n",
    "    length=params[\"CABLE_LENGTH\"]\n",
    "    diameter=params[\"CABLE_DIAMETER\"]\n",
    "    r_longitudinal=params[\"R_LONGITUDINAL\"]\n",
    "    r_transversal=params[\"R_TRANSVERSAL\"]\n",
    "    e_leak=params[\"E_LEAK\"]\n",
    "    capacitance=params[\"CAPACITANCE\"]\n",
    "\n",
    "    cable_morphology = Cylinder(diameter=diameter, length=length, n=nr_compartments)\n",
    "    \n",
    "    EL = e_leak\n",
    "    RT = r_transversal\n",
    "    eqs = \"\"\"\n",
    "    Iext = current(t, location_index): amp (point current)\n",
    "    location_index : integer (constant)\n",
    "    Im = (EL-v)/RT : amp/meter**2\n",
    "    \"\"\"\n",
    "    cable_model = SpatialNeuron(morphology=cable_morphology, model=eqs, Cm=capacitance, Ri=r_longitudinal)\n",
    "    monitor_v = StateMonitor(cable_model, \"v\", record=True)\n",
    "\n",
    "    # inject all input currents at the specified location:\n",
    "    nr_input_locations = len(I_loc)\n",
    "    input_current_0 = np.insert(I_arr.values, 0, 0., axis=1) * amp  # insert default current: 0. [amp]\n",
    "    current = TimedArray(input_current_0, dt=I_arr.dt * second)\n",
    "    for current_index in range(nr_input_locations):\n",
    "        insert_location = I_loc[current_index]\n",
    "        compartment_index = int(np.floor(insert_location / (length / nr_compartments)))\n",
    "        # next line: current_index+1 because 0 is the default current 0Amp\n",
    "        cable_model.location_index[compartment_index] = current_index + 1\n",
    "\n",
    "    # set initial values and run for 1 ms\n",
    "    cable_model.v = initial_voltage\n",
    "    run(duration)\n",
    "    return monitor_v, cable_model\n",
    "\n",
    "    "
   ]
  },
  {
   "cell_type": "code",
   "execution_count": null,
   "metadata": {},
   "outputs": [],
   "source": []
  }
 ],
 "metadata": {
  "kernelspec": {
   "display_name": "brian2",
   "language": "python",
   "name": "python3"
  },
  "language_info": {
   "codemirror_mode": {
    "name": "ipython",
    "version": 3
   },
   "file_extension": ".py",
   "mimetype": "text/x-python",
   "name": "python",
   "nbconvert_exporter": "python",
   "pygments_lexer": "ipython3",
   "version": "3.12.3"
  }
 },
 "nbformat": 4,
 "nbformat_minor": 2
}
